{
 "cells": [
  {
   "cell_type": "markdown",
   "id": "9152bde2",
   "metadata": {},
   "source": [
    "# Criar Bot com Python"
   ]
  },
  {
   "cell_type": "markdown",
   "id": "c98ac793",
   "metadata": {},
   "source": [
    "## Bot no Computador - pyautogui"
   ]
  },
  {
   "cell_type": "code",
   "execution_count": 29,
   "id": "24e2a54d",
   "metadata": {},
   "outputs": [],
   "source": [
    "import pyautogui\n",
    "\n",
    "pyautogui.PAUSE = 3\n",
    "# abrir a ferramenta/o sistema/o programa\n",
    "\n",
    "pyautogui.press(\"win\")\n",
    "pyautogui.write(\"login.xlsx\")\n",
    "pyautogui.press(\"backspace\")\n",
    "pyautogui.press(\"enter\")\n",
    "\n",
    "# preencher o login \n",
    "pyautogui.click(x=519, y=376)\n",
    "pyautogui.write(\"Rapha\")\n",
    "\n",
    "# preencher a senha\n",
    "pyautogui.click(x=488, y=428)\n",
    "pyautogui.write(\"123456\")\n",
    "\n",
    "# clicar em fazer login\n",
    "pyautogui.click(x=462, y=542)\n",
    "pyautogui.press(\"enter\")"
   ]
  },
  {
   "cell_type": "code",
   "execution_count": 26,
   "id": "985abd32",
   "metadata": {},
   "outputs": [
    {
     "data": {
      "text/plain": [
       "Point(x=462, y=542)"
      ]
     },
     "execution_count": 26,
     "metadata": {},
     "output_type": "execute_result"
    }
   ],
   "source": [
    "import time\n",
    "\n",
    "time.sleep(4)\n",
    "pyautogui.position()"
   ]
  },
  {
   "cell_type": "markdown",
   "id": "9cc58fa3",
   "metadata": {},
   "source": [
    "# #Bot na Internet - Selenium"
   ]
  },
  {
   "cell_type": "code",
   "execution_count": null,
   "id": "7f547d41",
   "metadata": {},
   "outputs": [],
   "source": [
    "# chrome -> chromedriver NÃO FUNCIONA!!\n",
    "# firefox -> geckodriver \n",
    "from selenium import webdriver\n",
    "import time\n",
    "\n",
    "navegador = webdriver.Chrome()\n",
    "navegador.get(\"https://login.live.com/\")\n",
    "time.sleep(1)\n",
    "navegador.find_element_by_xpath('//*[@id=\"i0116\"]').send_keys(\"pythonimpressionador@outlook.com\")\n",
    "navegador.find_element_by_xpath('//*[@id=\"idSIButton9\"]').click()\n",
    "\n",
    "time.sleep(1)\n",
    "\n",
    "navegador.find_element_by_xpath('//*[@id=\"i0118\"]').send_keys(\"Python123123\")\n",
    "navegador.find_element_by_xpath('//*[@id=\"idSIButton9\"]').click()\n"
   ]
  },
  {
   "cell_type": "code",
   "execution_count": null,
   "id": "00476f6d",
   "metadata": {},
   "outputs": [],
   "source": []
  },
  {
   "cell_type": "code",
   "execution_count": null,
   "id": "9d20512c",
   "metadata": {},
   "outputs": [],
   "source": []
  }
 ],
 "metadata": {
  "kernelspec": {
   "display_name": "Python 3 (ipykernel)",
   "language": "python",
   "name": "python3"
  },
  "language_info": {
   "codemirror_mode": {
    "name": "ipython",
    "version": 3
   },
   "file_extension": ".py",
   "mimetype": "text/x-python",
   "name": "python",
   "nbconvert_exporter": "python",
   "pygments_lexer": "ipython3",
   "version": "3.9.12"
  }
 },
 "nbformat": 4,
 "nbformat_minor": 5
}
